{
 "cells": [
  {
   "cell_type": "code",
   "execution_count": null,
   "metadata": {
    "colab": {},
    "colab_type": "code",
    "id": "VK95a8C3zvjM"
   },
   "outputs": [],
   "source": [
    "import numpy as np\n",
    "\n",
    "import matplotlib as mpl\n",
    "from matplotlib import animation\n",
    "from matplotlib import pyplot as plt\n",
    "\n",
    "from scipy import spatial\n",
    "\n",
    "from IPython.display import HTML"
   ]
  },
  {
   "cell_type": "code",
   "execution_count": null,
   "metadata": {
    "colab": {},
    "colab_type": "code",
    "id": "Rkdv75hn3B7B"
   },
   "outputs": [],
   "source": [
    "n_points = 20\n",
    "n_steps = 360 / 10\n",
    "interval = 50\n",
    "generator = \"normal\"\n",
    "random_state = None"
   ]
  },
  {
   "cell_type": "code",
   "execution_count": null,
   "metadata": {
    "colab": {},
    "colab_type": "code",
    "id": "Mmp2iGAi2NFL"
   },
   "outputs": [],
   "source": [
    "def generate_circle(n_points):\n",
    "    points = np.zeros((n_points,2))\n",
    "    radius = np.sqrt( np.random.uniform(0, 1, n_points) )\n",
    "    theta = np.random.uniform(0, 2*np.pi, n_points)\n",
    "    points[:,0] = (radius * np.cos(theta))\n",
    "    points[:,1] = (radius * np.sin(theta))\n",
    "    return points"
   ]
  },
  {
   "cell_type": "code",
   "execution_count": null,
   "metadata": {
    "colab": {},
    "colab_type": "code",
    "id": "X0721DQLiozh"
   },
   "outputs": [],
   "source": [
    "def generate_polygon(n_points):\n",
    "    theta = np.linspace(0, 2*np.pi, n_points)\n",
    "    xx = 2 * np.cos(theta)\n",
    "    yy = 2 * np.sin(theta)\n",
    "    points = np.zeros((n_points,2))\n",
    "    points[:,0] = xx\n",
    "    points[:,1] = yy\n",
    "    return points"
   ]
  },
  {
   "cell_type": "code",
   "execution_count": null,
   "metadata": {
    "colab": {
     "base_uri": "https://localhost:8080/",
     "height": 34
    },
    "colab_type": "code",
    "executionInfo": {
     "elapsed": 465,
     "status": "ok",
     "timestamp": 1535845843228,
     "user": {
      "displayName": "Jeff Graves",
      "photoUrl": "//lh5.googleusercontent.com/-y-PIzX_GVK4/AAAAAAAAAAI/AAAAAAAABNk/3V6E1GPRX5g/s50-c-k-no/photo.jpg",
      "userId": "116994125971632788447"
     },
     "user_tz": 300
    },
    "id": "hju7oNX72NB-",
    "outputId": "c4565a85-7e28-4a03-cbec-62e481e345ad"
   },
   "outputs": [],
   "source": [
    "np.random.seed(random_state)\n",
    "\n",
    "if generator == \"normal\":\n",
    "    points = np.random.normal(size=(n_points,2))\n",
    "elif generator == \"uniform\":\n",
    "    points = np.random.uniform(size=(n_points,2))\n",
    "elif generator == \"circle\":\n",
    "    points = generate_circle(n_points)\n",
    "elif generator == \"polygon\":\n",
    "    points = generate_polygon(n_points)\n",
    "else:\n",
    "    raise ValueError(\"Unexpected generator type: {}\".format(generator))\n",
    "\n",
    "print \"Points:\", points.shape"
   ]
  },
  {
   "cell_type": "code",
   "execution_count": null,
   "metadata": {
    "colab": {
     "base_uri": "https://localhost:8080/",
     "height": 330
    },
    "colab_type": "code",
    "executionInfo": {
     "elapsed": 587,
     "status": "ok",
     "timestamp": 1535845844061,
     "user": {
      "displayName": "Jeff Graves",
      "photoUrl": "//lh5.googleusercontent.com/-y-PIzX_GVK4/AAAAAAAAAAI/AAAAAAAABNk/3V6E1GPRX5g/s50-c-k-no/photo.jpg",
      "userId": "116994125971632788447"
     },
     "user_tz": 300
    },
    "id": "cPXZwX2z2M_L",
    "outputId": "c455473e-8c62-4d3c-9f08-1150e47954b0"
   },
   "outputs": [],
   "source": [
    "xmin, xmax = np.min(points[:,0]), np.max(points[:,0])\n",
    "ymin, ymax = np.min(points[:,1]), np.max(points[:,1])\n",
    "vmin, vmax = np.min([xmin,ymin]), np.max([xmax,ymax])\n",
    "vmin -= (vmax-vmin) * 0.25\n",
    "vmax += (vmax-vmin) * 0.25\n",
    "\n",
    "fig, ax = plt.subplots()\n",
    "ax.set_xlim(vmin, vmax)\n",
    "ax.set_xticks([])\n",
    "ax.set_ylim(vmin, vmax)\n",
    "ax.set_yticks([])\n",
    "ax.set_aspect(\"equal\")\n",
    "\n",
    "ax.scatter(points[:,0], points[:,1])\n",
    "\n",
    "plt.show()"
   ]
  },
  {
   "cell_type": "code",
   "execution_count": null,
   "metadata": {
    "colab": {
     "base_uri": "https://localhost:8080/",
     "height": 34
    },
    "colab_type": "code",
    "executionInfo": {
     "elapsed": 377,
     "status": "ok",
     "timestamp": 1535845844625,
     "user": {
      "displayName": "Jeff Graves",
      "photoUrl": "//lh5.googleusercontent.com/-y-PIzX_GVK4/AAAAAAAAAAI/AAAAAAAABNk/3V6E1GPRX5g/s50-c-k-no/photo.jpg",
      "userId": "116994125971632788447"
     },
     "user_tz": 300
    },
    "id": "UWhHR44E2M8S",
    "outputId": "09565bcb-f292-4e11-f1a5-470cd14a10eb"
   },
   "outputs": [],
   "source": [
    "try:\n",
    "    hull = spatial.ConvexHull(points)\n",
    "    outlying_points = points[hull.vertices]\n",
    "except:\n",
    "    outlying_points = points\n",
    "print \"Outlying Points:\", outlying_points.shape"
   ]
  },
  {
   "cell_type": "code",
   "execution_count": null,
   "metadata": {
    "colab": {
     "base_uri": "https://localhost:8080/",
     "height": 772
    },
    "colab_type": "code",
    "executionInfo": {
     "elapsed": 6190,
     "status": "ok",
     "timestamp": 1535845850950,
     "user": {
      "displayName": "Jeff Graves",
      "photoUrl": "//lh5.googleusercontent.com/-y-PIzX_GVK4/AAAAAAAAAAI/AAAAAAAABNk/3V6E1GPRX5g/s50-c-k-no/photo.jpg",
      "userId": "116994125971632788447"
     },
     "user_tz": 300
    },
    "id": "V_QILtYB2M5F",
    "outputId": "9d73a001-bdd2-4cc9-918b-c3843d15d1f4"
   },
   "outputs": [],
   "source": [
    "dmatrix = spatial.distance.pdist(outlying_points)\n",
    "dmax = np.nanmax(dmatrix)\n",
    "\n",
    "fig = plt.figure(figsize=(10,5))\n",
    "gs = mpl.gridspec.GridSpec(2, 4)\n",
    "\n",
    "circle_ax = fig.add_subplot(gs[0,:2], projection=\"polar\")\n",
    "circle_ax.set_xticklabels([\"0\",\n",
    "                           \"$\\\\frac{\\\\pi}{4}$\",\n",
    "                           \"$\\\\frac{\\\\pi}{2}$\",\n",
    "                           \"$\\\\frac{3\\\\pi}{4}$\",\n",
    "                           \"$\\\\pi$\",\n",
    "                           \"$\\\\frac{5\\\\pi}{4}$\",\n",
    "                           \"$\\\\frac{3\\\\pi}{2}$\",\n",
    "                           \"$\\\\frac{7\\\\pi}{4}$\",])\n",
    "circle_ax.set_yticklabels([])\n",
    "circle_ax.set_ylim(0,1)\n",
    "polar_angle, = circle_ax.plot([0,0],[0,1], color=\"r\", linewidth = 1)\n",
    "\n",
    "points_ax = fig.add_subplot(gs[0,2:],)\n",
    "points_ax.set_xlim(vmin, vmax)\n",
    "points_ax.set_xticks([])\n",
    "points_ax.set_ylim(vmin, vmax)\n",
    "points_ax.set_yticks([])\n",
    "points_ax.set_aspect(\"equal\")\n",
    "points_ax.scatter(points[:,0], points[:,1], c=\"k\", s=5)\n",
    "line1, = points_ax.plot([], [], color=\"b\")\n",
    "line2, = points_ax.plot([], [], color=\"b\")\n",
    "\n",
    "fun_ax = fig.add_subplot(gs[1, 1:3],)\n",
    "fun_ax.set_xlim(0,2*np.pi)\n",
    "fun_ax.set_xticks([0,\n",
    "                   np.pi/4,\n",
    "                   np.pi/2,\n",
    "                   3*np.pi/4,\n",
    "                   np.pi,\n",
    "                   5*np.pi/4,\n",
    "                   3*np.pi/2,\n",
    "                   7*np.pi/4,\n",
    "                   2*np.pi])\n",
    "fun_ax.set_xticklabels([\"0\",\n",
    "                        \"$\\\\frac{\\\\pi}{4}$\",\n",
    "                        \"$\\\\frac{\\\\pi}{2}$\",\n",
    "                        \"$\\\\frac{3\\\\pi}{4}$\",\n",
    "                        \"$\\\\pi$\",\n",
    "                        \"$\\\\frac{5\\\\pi}{4}$\",\n",
    "                        \"$\\\\frac{3\\\\pi}{2}$\",\n",
    "                        \"$\\\\frac{7\\\\pi}{4}$\",\n",
    "                        \"$2\\\\pi$\",])\n",
    "fun_ax.set_ylim(0,1.25*dmax)\n",
    "frames = np.linspace(0, 2*np.pi, n_steps)\n",
    "function, = fun_ax.plot(frames, np.zeros(n_steps), markersize=5, color=\"r\")\n",
    "point, = fun_ax.plot(0, 0, \"o\", markersize=4, color=\"b\")\n",
    "\n",
    "def FF(theta, points):\n",
    "    v1 = np.zeros(points.shape)\n",
    "    v2 = np.tile(np.asarray([np.cos(theta),np.sin(theta)]),\n",
    "                 (points.shape[0],1))\n",
    "    dists = np.cross(v2-v1, points-v1) / np.linalg.norm(v2-v1)\n",
    "    \n",
    "    l1 = np.zeros((2,2))\n",
    "    max_index = np.argmax(dists)\n",
    "    max_point = points[max_index,:]\n",
    "    l1[0,:] = np.asarray( [max_point[0]-np.cos(theta)*2*vmax,\n",
    "                           max_point[1]-np.sin(theta)*2*vmax] )\n",
    "    l1[1,:] = np.asarray( [max_point[0]+np.cos(theta)*2*vmax,\n",
    "                           max_point[1]+np.sin(theta)*2*vmax] )\n",
    "\n",
    "    l2 = np.zeros((2,2))\n",
    "    min_index = np.argmin(dists)\n",
    "    min_point = points[min_index,:]\n",
    "    l2[0,:] = np.asarray( [min_point[0]-np.cos(theta)*2*vmax,\n",
    "                           min_point[1]-np.sin(theta)*2*vmax] )\n",
    "    l2[1,:] = np.asarray( [min_point[0]+np.cos(theta)*2*vmax,\n",
    "                           min_point[1]+np.sin(theta)*2*vmax] )\n",
    "\n",
    "    dist = np.cross(np.diff(l2, axis=0),\n",
    "                    max_point-l2[0,:])/np.linalg.norm(np.diff(l2, axis=0))\n",
    "    return l1, l2, dist[0]\n",
    "\n",
    "def update(theta):\n",
    "    polar_angle.set_data([theta, theta],[0,1])\n",
    "    \n",
    "    l1, l2, dist = FF(theta, outlying_points)\n",
    "    line1.set_data(l1[:,0], l1[:,1])\n",
    "    line2.set_data(l2[:,0], l2[:,1])\n",
    "    \n",
    "    index = np.where(frames==theta)\n",
    "    yy = function.get_ydata()\n",
    "    yy[index] = dist\n",
    "    function.set_ydata(yy)\n",
    "    \n",
    "    point.set_ydata(dist)\n",
    "    point.set_xdata(theta)\n",
    "    return polar_angle, line1, line2, point\n",
    "\n",
    "def init():\n",
    "    for theta in frames:\n",
    "        res = update(theta)\n",
    "    return res\n",
    "\n",
    "anim = animation.FuncAnimation(fig, update, init_func=init,\n",
    "                               frames=frames, interval=interval, blit=True)\n",
    "\n",
    "HTML(anim.to_jshtml())"
   ]
  }
 ],
 "metadata": {
  "colab": {
   "collapsed_sections": [],
   "name": "ParallelLines.ipynb",
   "provenance": [],
   "version": "0.3.2"
  },
  "kernelspec": {
   "display_name": "Python 2",
   "language": "python",
   "name": "python2"
  },
  "language_info": {
   "codemirror_mode": {
    "name": "ipython",
    "version": 2
   },
   "file_extension": ".py",
   "mimetype": "text/x-python",
   "name": "python",
   "nbconvert_exporter": "python",
   "pygments_lexer": "ipython2",
   "version": "2.7.5"
  }
 },
 "nbformat": 4,
 "nbformat_minor": 1
}
